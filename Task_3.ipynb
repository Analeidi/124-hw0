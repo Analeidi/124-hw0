{
  "nbformat": 4,
  "nbformat_minor": 0,
  "metadata": {
    "colab": {
      "name": "Task 3.ipynb",
      "provenance": [],
      "collapsed_sections": [],
      "mount_file_id": "15ZeCHYpvayn1HSdN3hw_ISsjS-X8ox6a",
      "authorship_tag": "ABX9TyMEChWg09v7kp9SCL9tML9X",
      "include_colab_link": true
    },
    "kernelspec": {
      "name": "python3",
      "display_name": "Python 3"
    },
    "accelerator": "GPU"
  },
  "cells": [
    {
      "cell_type": "markdown",
      "metadata": {
        "id": "view-in-github",
        "colab_type": "text"
      },
      "source": [
        "<a href=\"https://colab.research.google.com/github/Analeidi/124-hw0/blob/master/Task_3.ipynb\" target=\"_parent\"><img src=\"https://colab.research.google.com/assets/colab-badge.svg\" alt=\"Open In Colab\"/></a>"
      ]
    },
    {
      "cell_type": "markdown",
      "metadata": {
        "id": "-Q4GcIGn47tS"
      },
      "source": [
        "# Task 3"
      ]
    },
    {
      "cell_type": "code",
      "metadata": {
        "id": "5UUcGY216zEG"
      },
      "source": [
        "import tensorflow as tf\n",
        "import matplotlib.pyplot as plt\n",
        "from tensorflow.keras import datasets, layers, models\n",
        "from tensorflow.keras.layers.experimental import preprocessing"
      ],
      "execution_count": 24,
      "outputs": []
    },
    {
      "cell_type": "code",
      "metadata": {
        "id": "bEGIS8vo5tAa"
      },
      "source": [
        "directory = \"/content/drive/MyDrive/Colab Notebooks/Dog Data\""
      ],
      "execution_count": 11,
      "outputs": []
    },
    {
      "cell_type": "code",
      "metadata": {
        "colab": {
          "base_uri": "https://localhost:8080/"
        },
        "id": "n8acMjyb6wzl",
        "outputId": "ac6607cc-8dc9-4c3e-9d87-6faf16981d3b"
      },
      "source": [
        "trainDogData = tf.keras.preprocessing.image_dataset_from_directory(\n",
        "    directory, labels='inferred', label_mode= \"categorical\",\n",
        "    class_names=None, color_mode='rgb', batch_size=32, image_size=(256,\n",
        "    256), shuffle=True, seed= 999, validation_split= 0.2, subset= \"training\",\n",
        "    interpolation='bilinear', follow_links=False\n",
        ")"
      ],
      "execution_count": 44,
      "outputs": [
        {
          "output_type": "stream",
          "text": [
            "Found 949 files belonging to 6 classes.\n",
            "Using 760 files for training.\n"
          ],
          "name": "stdout"
        }
      ]
    },
    {
      "cell_type": "code",
      "metadata": {
        "colab": {
          "base_uri": "https://localhost:8080/"
        },
        "id": "AF0Rh37F8tYU",
        "outputId": "e5e23ead-c76a-49c5-d9d6-bed8548a7a0a"
      },
      "source": [
        "valDogImg, valDogLabel = tf.keras.preprocessing.image_dataset_from_directory(\n",
        "    directory, labels='inferred', label_mode= \"categorical\",\n",
        "    class_names=None, color_mode='rgb', batch_size=32, image_size=(256,\n",
        "    256), shuffle=True, seed= 999, validation_split= 0.2, subset= \"validation\",\n",
        "    interpolation='bilinear', follow_links=False\n",
        ")"
      ],
      "execution_count": 13,
      "outputs": [
        {
          "output_type": "stream",
          "text": [
            "Found 949 files belonging to 6 classes.\n",
            "Using 189 files for validation.\n"
          ],
          "name": "stdout"
        }
      ]
    },
    {
      "cell_type": "code",
      "metadata": {
        "colab": {
          "base_uri": "https://localhost:8080/"
        },
        "id": "vlmVdHPd_UVD",
        "outputId": "22780e13-9645-4128-8e2c-1862b5bec06d"
      },
      "source": [
        "print(trainDogData.class_names)\n",
        "print(valDogData.class_names)\n",
        "numOfDogs = len(trainDogData.class_names)"
      ],
      "execution_count": 14,
      "outputs": [
        {
          "output_type": "stream",
          "text": [
            "['Borzoi', 'Cardigan', 'Chihuahua', 'Golden_Retriever', 'Miniature_Schnauzer', 'Whippet']\n",
            "['Borzoi', 'Cardigan', 'Chihuahua', 'Golden_Retriever', 'Miniature_Schnauzer', 'Whippet']\n"
          ],
          "name": "stdout"
        }
      ]
    },
    {
      "cell_type": "code",
      "metadata": {
        "id": "IGuzGxcbEFmO"
      },
      "source": [
        "trainDogData = trainDogData.map(\n",
        "  lambda x, y: (preprocessing.Rescaling(1.0 / 255)(x)\n",
        ", y))"
      ],
      "execution_count": 19,
      "outputs": []
    },
    {
      "cell_type": "code",
      "metadata": {
        "colab": {
          "base_uri": "https://localhost:8080/",
          "height": 164
        },
        "id": "B2dGdEMOwLi-",
        "outputId": "82b410d7-31cf-463d-caf8-7c9319c3c7bb"
      },
      "source": [
        "print(trainDogData.shape)"
      ],
      "execution_count": 20,
      "outputs": [
        {
          "output_type": "error",
          "ename": "AttributeError",
          "evalue": "ignored",
          "traceback": [
            "\u001b[0;31m---------------------------------------------------------------------------\u001b[0m",
            "\u001b[0;31mAttributeError\u001b[0m                            Traceback (most recent call last)",
            "\u001b[0;32m<ipython-input-20-59235e170fad>\u001b[0m in \u001b[0;36m<module>\u001b[0;34m()\u001b[0m\n\u001b[0;32m----> 1\u001b[0;31m \u001b[0mprint\u001b[0m\u001b[0;34m(\u001b[0m\u001b[0mtrainDogData\u001b[0m\u001b[0;34m.\u001b[0m\u001b[0mshape\u001b[0m\u001b[0;34m)\u001b[0m\u001b[0;34m\u001b[0m\u001b[0;34m\u001b[0m\u001b[0m\n\u001b[0m",
            "\u001b[0;31mAttributeError\u001b[0m: 'MapDataset' object has no attribute 'shape'"
          ]
        }
      ]
    },
    {
      "cell_type": "code",
      "metadata": {
        "colab": {
          "base_uri": "https://localhost:8080/"
        },
        "id": "zlSNwcMOu_Ab",
        "outputId": "e26a8e40-502f-49fe-dae0-d2e362cdbdaf"
      },
      "source": [
        "# Build the CNN model, alternating Convolutional and MaxPooling layers\n",
        "model = models.Sequential()\n",
        "model.add(layers.Conv2D(32, (3, 3), activation='relu', input_shape=(256, 256, 3)))\n",
        "model.add(layers.MaxPooling2D((2, 2)))\n",
        "model.add(layers.Conv2D(64, (3, 3), activation='relu'))\n",
        "model.add(layers.MaxPooling2D((2, 2)))\n",
        "model.add(layers. Conv2D(64, (3, 3), activation='relu'))\n",
        "model.add(layers.MaxPooling2D((2, 2)))\n",
        "# Flatten out the data to be 1D\n",
        "model.add(layers.Flatten())\n",
        "# Add \"hidden\" layer with 64 units\n",
        "model.add(layers.Dense(64, activation='relu'))\n",
        "# Add output layer with one unit per category\n",
        "model.add(layers.Dense(6, activation='softmax'))\n",
        "model.summary()\n"
      ],
      "execution_count": 23,
      "outputs": [
        {
          "output_type": "stream",
          "text": [
            "Model: \"sequential\"\n",
            "_________________________________________________________________\n",
            "Layer (type)                 Output Shape              Param #   \n",
            "=================================================================\n",
            "conv2d (Conv2D)              (None, 254, 254, 32)      896       \n",
            "_________________________________________________________________\n",
            "max_pooling2d (MaxPooling2D) (None, 127, 127, 32)      0         \n",
            "_________________________________________________________________\n",
            "conv2d_1 (Conv2D)            (None, 125, 125, 64)      18496     \n",
            "_________________________________________________________________\n",
            "max_pooling2d_1 (MaxPooling2 (None, 62, 62, 64)        0         \n",
            "_________________________________________________________________\n",
            "conv2d_2 (Conv2D)            (None, 60, 60, 64)        36928     \n",
            "_________________________________________________________________\n",
            "max_pooling2d_2 (MaxPooling2 (None, 30, 30, 64)        0         \n",
            "_________________________________________________________________\n",
            "flatten (Flatten)            (None, 57600)             0         \n",
            "_________________________________________________________________\n",
            "dense (Dense)                (None, 64)                3686464   \n",
            "_________________________________________________________________\n",
            "dense_1 (Dense)              (None, 6)                 390       \n",
            "=================================================================\n",
            "Total params: 3,743,174\n",
            "Trainable params: 3,743,174\n",
            "Non-trainable params: 0\n",
            "_________________________________________________________________\n"
          ],
          "name": "stdout"
        }
      ]
    },
    {
      "cell_type": "code",
      "metadata": {
        "id": "zZXygC_G3_bg"
      },
      "source": [
        "import numpy as np\n",
        "predictions = np.array([])\n",
        "labels =  np.array([])\n",
        "for x, y in trainDogData:\n",
        "  predictions = np.concatenate(x)\n",
        "  labels = np.concatenate(y)\n"
      ],
      "execution_count": 52,
      "outputs": []
    },
    {
      "cell_type": "code",
      "metadata": {
        "colab": {
          "base_uri": "https://localhost:8080/"
        },
        "id": "JEGMLmma_aew",
        "outputId": "2730a170-0fa9-498b-de3b-7a4a95fdfa7c"
      },
      "source": [
        "\n",
        "print(len(labels))"
      ],
      "execution_count": 59,
      "outputs": [
        {
          "output_type": "stream",
          "text": [
            "144\n"
          ],
          "name": "stdout"
        }
      ]
    },
    {
      "cell_type": "code",
      "metadata": {
        "id": "102gUuNyAZ7S"
      },
      "source": [
        "model.compile(optimizer='adam',\n",
        "              loss='sparse_categorical_crossentropy',\n",
        "              metrics=['accuracy'])\n",
        "\n",
        "history = model.fit(trainImages, trainLabels, epochs=10,\n",
        "                    validation_data=(testImages, testLabels))\n"
      ],
      "execution_count": null,
      "outputs": []
    }
  ]
}