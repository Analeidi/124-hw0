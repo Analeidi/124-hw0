{
  "nbformat": 4,
  "nbformat_minor": 0,
  "metadata": {
    "accelerator": "GPU",
    "colab": {
      "name": "Task 3.ipynb",
      "provenance": [],
      "collapsed_sections": [],
      "toc_visible": true,
      "mount_file_id": "15ZeCHYpvayn1HSdN3hw_ISsjS-X8ox6a",
      "authorship_tag": "ABX9TyOEdJngOvhfUvkhVPvLt4Ai",
      "include_colab_link": true
    },
    "kernelspec": {
      "display_name": "Python 3",
      "name": "python3"
    }
  },
  "cells": [
    {
      "cell_type": "markdown",
      "metadata": {
        "id": "view-in-github",
        "colab_type": "text"
      },
      "source": [
        "<a href=\"https://colab.research.google.com/github/Analeidi/124-hw0/blob/master/Task_3.ipynb\" target=\"_parent\"><img src=\"https://colab.research.google.com/assets/colab-badge.svg\" alt=\"Open In Colab\"/></a>"
      ]
    },
    {
      "cell_type": "markdown",
      "metadata": {
        "id": "-Q4GcIGn47tS"
      },
      "source": [
        "# Task 3"
      ]
    },
    {
      "cell_type": "code",
      "metadata": {
        "id": "5UUcGY216zEG"
      },
      "source": [
        "import tensorflow as tf\n",
        "import matplotlib.pyplot as plt\n",
        "from tensorflow.keras import datasets, layers, models"
      ],
      "execution_count": null,
      "outputs": []
    },
    {
      "cell_type": "code",
      "metadata": {
        "id": "bEGIS8vo5tAa"
      },
      "source": [
        "directory = \"/content/drive/MyDrive/Colab Notebooks/Dog Data\""
      ],
      "execution_count": null,
      "outputs": []
    },
    {
      "cell_type": "code",
      "metadata": {
        "colab": {
          "base_uri": "https://localhost:8080/"
        },
        "id": "k_FJhbO2Us2n",
        "outputId": "e5d9cbec-d901-45d4-ec33-87f545e535a4"
      },
      "source": [
        "trainDogData = tf.keras.preprocessing.image_dataset_from_directory(\n",
        "    directory,\n",
        "    labels='inferred', \n",
        "    label_mode= \"categorical\",\n",
        "    class_names=None, \n",
        "    color_mode='rgb', \n",
        "    batch_size=32, \n",
        "    image_size=(256,256), \n",
        "    shuffle=True, seed= 999, \n",
        "    validation_split= 0.2, \n",
        "    subset= \"training\",\n",
        "    interpolation='bilinear', \n",
        "    follow_links=False\n",
        ")"
      ],
      "execution_count": null,
      "outputs": [
        {
          "output_type": "stream",
          "text": [
            "Found 949 files belonging to 6 classes.\n",
            "Using 760 files for training.\n"
          ],
          "name": "stdout"
        }
      ]
    },
    {
      "cell_type": "code",
      "metadata": {
        "colab": {
          "base_uri": "https://localhost:8080/"
        },
        "id": "AF0Rh37F8tYU",
        "outputId": "0ce8e305-df8d-4a38-ed05-d7c6364c1682"
      },
      "source": [
        "valDogData = tf.keras.preprocessing.image_dataset_from_directory(\n",
        "    directory, \n",
        "    labels='inferred', \n",
        "    label_mode= \"categorical\",\n",
        "    class_names=None, \n",
        "    color_mode='rgb', \n",
        "    batch_size=32, \n",
        "    image_size=(256,256), \n",
        "    shuffle=True, \n",
        "    seed= 999, \n",
        "    validation_split= 0.2, \n",
        "    subset= \"validation\",\n",
        "    interpolation='bilinear', \n",
        "    follow_links=False\n",
        ")"
      ],
      "execution_count": null,
      "outputs": [
        {
          "output_type": "stream",
          "text": [
            "Found 949 files belonging to 6 classes.\n",
            "Using 189 files for validation.\n"
          ],
          "name": "stdout"
        }
      ]
    },
    {
      "cell_type": "code",
      "metadata": {
        "id": "fPvQ2PwWN-8j"
      },
      "source": [
        "normalization_layer = layers.experimental.preprocessing.Rescaling(1./255)\n",
        "normalized_ds = trainDogData.map(lambda x, y: (normalization_layer(x), y))\n",
        "image_batch, labels_batch = next(iter(normalized_ds))"
      ],
      "execution_count": null,
      "outputs": []
    },
    {
      "cell_type": "code",
      "metadata": {
        "id": "zlSNwcMOu_Ab"
      },
      "source": [
        "# Build the CNN model, alternating Convolutional and MaxPooling layers\n",
        "model = models.Sequential()\n",
        "model.add(layers.Conv2D(32, (3, 3), activation='relu', input_shape=(256, 256, 3)))\n",
        "model.add(layers.MaxPooling2D((2, 2)))\n",
        "model.add(layers.Conv2D(64, (3, 3), activation='relu'))\n",
        "model.add(layers.MaxPooling2D((2, 2)))\n",
        "model.add(layers. Conv2D(64, (3, 3), activation='relu'))\n",
        "model.add(layers.MaxPooling2D((2, 2)))\n",
        "# Flatten out the data to be 1D\n",
        "model.add(layers.Flatten())\n",
        "# Add \"hidden\" layer with 64 units\n",
        "model.add(layers.Dense(64, activation='relu'))\n",
        "# Add output layer with one unit per category\n",
        "model.add(layers.Dense(6, activation='softmax'))\n"
      ],
      "execution_count": null,
      "outputs": []
    },
    {
      "cell_type": "code",
      "metadata": {
        "id": "102gUuNyAZ7S",
        "colab": {
          "base_uri": "https://localhost:8080/"
        },
        "outputId": "a5aedcbc-2355-438d-dfc6-5cf5f21fbbec"
      },
      "source": [
        "model.compile(optimizer='adam',\n",
        "              loss='categorical_crossentropy',\n",
        "              metrics=['accuracy'])\n",
        "model.summary()"
      ],
      "execution_count": null,
      "outputs": [
        {
          "output_type": "stream",
          "text": [
            "Model: \"sequential\"\n",
            "_________________________________________________________________\n",
            "Layer (type)                 Output Shape              Param #   \n",
            "=================================================================\n",
            "conv2d (Conv2D)              (None, 254, 254, 32)      896       \n",
            "_________________________________________________________________\n",
            "max_pooling2d (MaxPooling2D) (None, 127, 127, 32)      0         \n",
            "_________________________________________________________________\n",
            "conv2d_1 (Conv2D)            (None, 125, 125, 64)      18496     \n",
            "_________________________________________________________________\n",
            "max_pooling2d_1 (MaxPooling2 (None, 62, 62, 64)        0         \n",
            "_________________________________________________________________\n",
            "conv2d_2 (Conv2D)            (None, 60, 60, 64)        36928     \n",
            "_________________________________________________________________\n",
            "max_pooling2d_2 (MaxPooling2 (None, 30, 30, 64)        0         \n",
            "_________________________________________________________________\n",
            "flatten (Flatten)            (None, 57600)             0         \n",
            "_________________________________________________________________\n",
            "dense (Dense)                (None, 64)                3686464   \n",
            "_________________________________________________________________\n",
            "dense_1 (Dense)              (None, 6)                 390       \n",
            "=================================================================\n",
            "Total params: 3,743,174\n",
            "Trainable params: 3,743,174\n",
            "Non-trainable params: 0\n",
            "_________________________________________________________________\n"
          ],
          "name": "stdout"
        }
      ]
    },
    {
      "cell_type": "code",
      "metadata": {
        "colab": {
          "base_uri": "https://localhost:8080/"
        },
        "id": "3WbXg5WyUOkq",
        "outputId": "250e05e7-d429-4017-82a4-43c2d75d9091"
      },
      "source": [
        "import os\n",
        "checkpoint_path = \"/content/drive/MyDrive/Colab Notebooks\"\n",
        "checkpoint_dir = os.path.dirname(checkpoint_path)\n",
        "cp_callback = tf.keras.callbacks.ModelCheckpoint(\n",
        "    filepath=checkpoint_path,\n",
        "    save_weights_only=True,\n",
        "    verbose=1)\n",
        "\n",
        "epochs = 5\n",
        "history = model.fit(\n",
        "  trainDogData,\n",
        "  validation_data= valDogData,\n",
        "  epochs=epochs,\n",
        "  callbacks=[cp_callback]\n",
        ")"
      ],
      "execution_count": null,
      "outputs": [
        {
          "output_type": "stream",
          "text": [
            "Epoch 1/5\n",
            "24/24 [==============================] - 192s 8s/step - loss: 1.7593 - accuracy: 0.2368 - val_loss: 1.8377 - val_accuracy: 0.1799\n",
            "Epoch 2/5\n",
            "24/24 [==============================] - 4s 148ms/step - loss: 1.3607 - accuracy: 0.5447 - val_loss: 3.2497 - val_accuracy: 0.1799\n",
            "Epoch 3/5\n",
            "24/24 [==============================] - 4s 149ms/step - loss: 0.9200 - accuracy: 0.7053 - val_loss: 3.5273 - val_accuracy: 0.2116\n",
            "Epoch 4/5\n",
            "24/24 [==============================] - 4s 151ms/step - loss: 0.4924 - accuracy: 0.8382 - val_loss: 4.8424 - val_accuracy: 0.1799\n",
            "Epoch 5/5\n",
            "24/24 [==============================] - 4s 150ms/step - loss: 0.3018 - accuracy: 0.9092 - val_loss: 7.2929 - val_accuracy: 0.1640\n"
          ],
          "name": "stdout"
        }
      ]
    }
  ]
}